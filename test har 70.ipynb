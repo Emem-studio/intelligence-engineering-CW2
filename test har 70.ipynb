{
 "cells": [
  {
   "cell_type": "code",
   "outputs": [],
   "source": [
    "import numpy as np"
   ],
   "metadata": {
    "collapsed": false
   },
   "id": "a7f7b60e526ed20b",
   "execution_count": 23
  },
  {
   "cell_type": "code",
   "execution_count": 24,
   "id": "initial_id",
   "metadata": {
    "collapsed": true,
    "ExecuteTime": {
     "end_time": "2024-12-12T08:53:58.264786Z",
     "start_time": "2024-12-12T08:53:58.193230Z"
    }
   },
   "outputs": [],
   "source": [
    "import os\n",
    "import pandas as pd\n",
    "from sklearn.model_selection import train_test_split\n",
    "from sklearn.ensemble import RandomForestClassifier\n",
    "from sklearn.metrics import classification_report, confusion_matrix, accuracy_score\n",
    "from sklearn.feature_selection import SelectKBest, f_classif\n",
    "import matplotlib.pyplot as plt\n",
    "import seaborn as sns"
   ]
  },
  {
   "cell_type": "code",
   "outputs": [],
   "source": [
    "from sklearn.model_selection import GridSearchCV"
   ],
   "metadata": {
    "collapsed": false,
    "ExecuteTime": {
     "end_time": "2024-12-12T08:53:58.295788Z",
     "start_time": "2024-12-12T08:53:58.267786Z"
    }
   },
   "id": "69edb38f7f196739",
   "execution_count": 25
  },
  {
   "cell_type": "code",
   "outputs": [
    {
     "name": "stdout",
     "output_type": "stream",
     "text": [
      "Missing values per column:\n",
      " timestamp    0\n",
      "back_x       0\n",
      "back_y       0\n",
      "back_z       0\n",
      "thigh_x      0\n",
      "thigh_y      0\n",
      "thigh_z      0\n",
      "label        0\n",
      "dtype: int64\n"
     ]
    }
   ],
   "source": [
    "# Path to the directory containing your dataset\n",
    "directory_path = r'C:\\Users\\AFO\\Documents\\har70plus'\n",
    "\n",
    "# Initialize an empty DataFrame to combine all data\n",
    "combined_data = pd.DataFrame()\n",
    "\n",
    "# Loop through all CSV files in the directory\n",
    "for file_name in os.listdir(directory_path):\n",
    "    if file_name.endswith('.csv'):\n",
    "        file_path = os.path.join(directory_path, file_name)\n",
    "        temp_data = pd.read_csv(file_path)\n",
    "        combined_data = pd.concat([combined_data, temp_data], ignore_index=True)\n",
    "\n",
    "# Check for missing values in the combined dataset\n",
    "missing_values = combined_data.isnull().sum()\n",
    "print(\"Missing values per column:\\n\", missing_values)"
   ],
   "metadata": {
    "collapsed": false,
    "ExecuteTime": {
     "end_time": "2024-12-12T09:28:21.882566Z",
     "start_time": "2024-12-12T09:28:11.816318Z"
    }
   },
   "id": "bf438087fee7a200",
   "execution_count": 41
  },
  {
   "cell_type": "code",
   "outputs": [
    {
     "name": "stdout",
     "output_type": "stream",
     "text": [
      "\n",
      "Total missing values: 0\n"
     ]
    }
   ],
   "source": [
    "# Display total number of missing values\n",
    "total_missing = combined_data.isnull().sum().sum()\n",
    "print(\"\\nTotal missing values:\", total_missing)"
   ],
   "metadata": {
    "collapsed": false,
    "ExecuteTime": {
     "end_time": "2024-12-12T09:28:29.776678Z",
     "start_time": "2024-12-12T09:28:29.480960Z"
    }
   },
   "id": "b187b042b9fed09f",
   "execution_count": 42
  },
  {
   "cell_type": "code",
   "outputs": [],
   "source": [
    "# Map labels to activities\n",
    "label_mapping = {\n",
    "    1: \"Sitting\",\n",
    "    3: \"Standing\",\n",
    "    6: \"Walking\",\n",
    "    7: \"Running\",\n",
    "    8: \"Lying Down\"\n",
    "}\n",
    "combined_data['activity'] = combined_data['label'].map(label_mapping)"
   ],
   "metadata": {
    "collapsed": false,
    "ExecuteTime": {
     "end_time": "2024-12-12T08:58:01.757013Z",
     "start_time": "2024-12-12T08:58:01.627895Z"
    }
   },
   "id": "1a4232f1829e5537",
   "execution_count": 28
  },
  {
   "cell_type": "code",
   "outputs": [],
   "source": [
    "# Remove rows with \"Standing\" activity\n",
    "combined_data_filtered = combined_data[combined_data['activity'] != 'Standing']\n"
   ],
   "metadata": {
    "collapsed": false,
    "ExecuteTime": {
     "end_time": "2024-12-12T08:58:02.957072Z",
     "start_time": "2024-12-12T08:58:01.762020Z"
    }
   },
   "id": "5b2556d61deda209",
   "execution_count": 29
  },
  {
   "cell_type": "code",
   "outputs": [
    {
     "name": "stdout",
     "output_type": "stream",
     "text": [
      "Sitting       407922\n",
      "Walking       163109\n",
      "Running       157244\n",
      "Lying Down     77838\n",
      "Name: activity, dtype: int64\n",
      "[6 3 1 7 8 5 4]\n"
     ]
    }
   ],
   "source": [
    "# Define features and target\n",
    "sensor_columns = ['back_x', 'back_y', 'back_z', 'thigh_x', 'thigh_y', 'thigh_z']\n",
    "X = combined_data_filtered[sensor_columns]\n",
    "y = combined_data_filtered['activity']\n",
    "print(combined_data_filtered['activity'].value_counts())\n",
    "print(combined_data['label'].unique())"
   ],
   "metadata": {
    "collapsed": false,
    "ExecuteTime": {
     "end_time": "2024-12-12T08:58:03.178206Z",
     "start_time": "2024-12-12T08:58:02.960058Z"
    }
   },
   "id": "4b5b47c41aa693da",
   "execution_count": 30
  },
  {
   "cell_type": "code",
   "outputs": [
    {
     "name": "stdout",
     "output_type": "stream",
     "text": [
      "Original label distribution:\n",
      "1    407922\n",
      "6    163109\n",
      "7    157244\n",
      "8     77838\n",
      "3     23902\n",
      "5      1532\n",
      "4       696\n",
      "Name: label, dtype: int64\n",
      "\n",
      "Activity distribution after mapping:\n",
      "Sitting       407922\n",
      "Walking       163109\n",
      "Running       157244\n",
      "Lying Down     77838\n",
      "Standing       23902\n",
      "Name: activity, dtype: int64\n",
      "\n",
      "Sample rows with original labels and mapped activities:\n",
      "   label activity\n",
      "0      6  Walking\n",
      "1      6  Walking\n",
      "2      6  Walking\n",
      "3      6  Walking\n",
      "4      6  Walking\n",
      "5      6  Walking\n",
      "6      6  Walking\n",
      "7      6  Walking\n",
      "8      6  Walking\n",
      "9      6  Walking\n"
     ]
    }
   ],
   "source": [
    "# After mapping labels\n",
    "print(\"Original label distribution:\")\n",
    "print(combined_data['label'].value_counts())\n",
    "\n",
    "print(\"\\nActivity distribution after mapping:\")\n",
    "print(combined_data['activity'].value_counts())\n",
    "\n",
    "# Verify the mapping worked correctly\n",
    "print(\"\\nSample rows with original labels and mapped activities:\")\n",
    "print(combined_data[['label', 'activity']].head(10))"
   ],
   "metadata": {
    "collapsed": false,
    "ExecuteTime": {
     "end_time": "2024-12-12T08:58:03.320741Z",
     "start_time": "2024-12-12T08:58:03.182181Z"
    }
   },
   "id": "a6f476b192988713",
   "execution_count": 31
  },
  {
   "cell_type": "code",
   "outputs": [
    {
     "name": "stdout",
     "output_type": "stream",
     "text": [
      "Missing values in X: 0\n",
      "Missing values in y: 0\n"
     ]
    }
   ],
   "source": [
    "# Convert y to categorical\n",
    "y = y.astype('category')\n",
    "\n",
    "# Remove any rows where X or y contains NaN values\n",
    "X = X.dropna()\n",
    "y = y.dropna()\n",
    "\n",
    "# Align indices of X and y to ensure they match\n",
    "X = X.loc[y.index]\n",
    "y = y.loc[X.index]\n",
    "\n",
    "# Check again for any NaN values\n",
    "print(\"Missing values in X:\", X.isnull().sum().sum())\n",
    "print(\"Missing values in y:\", y.isnull().sum())"
   ],
   "metadata": {
    "collapsed": false,
    "ExecuteTime": {
     "end_time": "2024-12-12T08:58:03.965098Z",
     "start_time": "2024-12-12T08:58:03.324750Z"
    }
   },
   "id": "3c1fafc203ff564b",
   "execution_count": 32
  },
  {
   "cell_type": "code",
   "outputs": [
    {
     "name": "stdout",
     "output_type": "stream",
     "text": [
      "Data types of X:\n",
      " back_x     float64\n",
      "back_y     float64\n",
      "back_z     float64\n",
      "thigh_x    float64\n",
      "thigh_y    float64\n",
      "thigh_z    float64\n",
      "dtype: object\n",
      "Data type of y: category\n"
     ]
    }
   ],
   "source": [
    "# Convert X to numeric \n",
    "X = X.apply(pd.to_numeric, errors='coerce')\n",
    "\n",
    "# Verify data types\n",
    "print(\"Data types of X:\\n\", X.dtypes)\n",
    "print(\"Data type of y:\", y.dtypes)"
   ],
   "metadata": {
    "collapsed": false,
    "ExecuteTime": {
     "end_time": "2024-12-12T08:58:04.043121Z",
     "start_time": "2024-12-12T08:58:03.968111Z"
    }
   },
   "id": "8c11c279e8c35f1f",
   "execution_count": 33
  },
  {
   "cell_type": "code",
   "outputs": [
    {
     "name": "stdout",
     "output_type": "stream",
     "text": [
      "Train set size: 644890\n",
      "Test set size: 161223\n"
     ]
    }
   ],
   "source": [
    "# Train-test split\n",
    "X_train, X_test, y_train, y_test = train_test_split(X, y, test_size=0.2, random_state=42, stratify=y)\n",
    "\n",
    "# Verify the split\n",
    "print(\"Train set size:\", X_train.shape[0])\n",
    "print(\"Test set size:\", X_test.shape[0])"
   ],
   "metadata": {
    "collapsed": false,
    "ExecuteTime": {
     "end_time": "2024-12-12T08:58:05.984541Z",
     "start_time": "2024-12-12T08:58:04.047652Z"
    }
   },
   "id": "9805c02a06783b56",
   "execution_count": 34
  },
  {
   "cell_type": "code",
   "outputs": [],
   "source": [
    "# Sample a small subset for feature selection\n",
    "sample_fraction = 0.01\n",
    "X_sampled = X_train.sample(frac=sample_fraction, random_state=42)\n",
    "y_sampled = y_train.loc[X_sampled.index]\n",
    "\n",
    "# Select top k features\n",
    "selector = SelectKBest(score_func=f_classif, k=4)\n",
    "X_train_reduced = selector.fit_transform(X_train, y_train)\n",
    "X_test_reduced = selector.transform(X_test)"
   ],
   "metadata": {
    "collapsed": false,
    "ExecuteTime": {
     "end_time": "2024-12-12T08:58:07.234274Z",
     "start_time": "2024-12-12T08:58:05.987541Z"
    }
   },
   "id": "6ecaa69fda4ab79",
   "execution_count": 35
  },
  {
   "cell_type": "code",
   "outputs": [
    {
     "name": "stdout",
     "output_type": "stream",
     "text": [
      "Accuracy Score: 0.9351395272386694\n",
      "\n",
      "Classification Report:\n",
      "               precision    recall  f1-score   support\n",
      "\n",
      "  Lying Down       1.00      1.00      1.00     15568\n",
      "     Running       1.00      1.00      1.00     31449\n",
      "     Sitting       0.98      0.89      0.93     81584\n",
      "     Walking       0.78      0.96      0.86     32622\n",
      "\n",
      "    accuracy                           0.94    161223\n",
      "   macro avg       0.94      0.96      0.95    161223\n",
      "weighted avg       0.94      0.94      0.94    161223\n"
     ]
    }
   ],
   "source": [
    "# Train a Random Forest classifier\n",
    "rf_model = RandomForestClassifier(n_estimators=10, max_depth=10, class_weight='balanced', random_state=42)\n",
    "rf_model.fit(X_train_reduced, y_train)\n",
    "\n",
    "# Predictions on the test set\n",
    "y_pred = rf_model.predict(X_test_reduced)\n",
    "\n",
    "# Evaluation metrics\n",
    "print(\"Accuracy Score:\", accuracy_score(y_test, y_pred))\n",
    "print(\"\\nClassification Report:\\n\", classification_report(y_test, y_pred))"
   ],
   "metadata": {
    "collapsed": false,
    "ExecuteTime": {
     "end_time": "2024-12-12T08:58:43.892644Z",
     "start_time": "2024-12-12T08:58:07.238290Z"
    }
   },
   "id": "894f9e7520fad6a8",
   "execution_count": 36
  },
  {
   "cell_type": "code",
   "outputs": [
    {
     "name": "stdout",
     "output_type": "stream",
     "text": [
      "Fitting 2 folds for each of 1 candidates, totalling 2 fits\n",
      "[CV] END max_depth=4, max_features=sqrt, n_estimators=10, random_state=0; total time=   0.0s\n",
      "[CV] END max_depth=4, max_features=sqrt, n_estimators=10, random_state=0; total time=   0.0s\n",
      "Best Parameters: {'max_depth': 4, 'max_features': 'sqrt', 'n_estimators': 10, 'random_state': 0}\n",
      "Best Score: 0.9302214976821128\n"
     ]
    }
   ],
   "source": [
    "# Define the parameter grid\n",
    "param_grid = {\n",
    "    'n_estimators': [10],\n",
    "    'max_depth': [4],\n",
    "    'random_state': [0],\n",
    "    'max_features': ['sqrt']\n",
    "}\n",
    "\n",
    "# Use GridSearchCV for exhaustive search\n",
    "grid_search = GridSearchCV(\n",
    "    estimator=RandomForestClassifier(),\n",
    "    param_grid=param_grid,\n",
    "    cv=2,  # Reduce the number of folds\n",
    "    scoring='accuracy',\n",
    "    verbose=2,\n",
    "    n_jobs=1  # Use a single processor to avoid resource contention\n",
    ")\n",
    "\n",
    "# Fit the grid search on the downsampled data\n",
    "grid_search.fit(X_sampled, y_sampled)\n",
    "\n",
    "# Print the best parameters and score\n",
    "print(\"Best Parameters:\", grid_search.best_params_)\n",
    "print(\"Best Score:\", grid_search.best_score_)\n"
   ],
   "metadata": {
    "collapsed": false,
    "ExecuteTime": {
     "end_time": "2024-12-12T09:16:55.114040Z",
     "start_time": "2024-12-12T09:16:54.515898Z"
    }
   },
   "id": "167d03856de8c914",
   "execution_count": 40
  },
  {
   "cell_type": "code",
   "outputs": [],
   "source": [
    "#Final Model with Best Parameters\n",
    "final_rf = RandomForestClassifier(**grid_search.best_params_, class_weight='balanced')\n",
    "final_rf.fit(X_train_reduced, y_train)\n",
    "final_y_pred = final_rf.predict(X_test_reduced)"
   ],
   "metadata": {
    "collapsed": false,
    "ExecuteTime": {
     "end_time": "2024-12-12T09:47:58.128425Z",
     "start_time": "2024-12-12T09:47:40.115122Z"
    }
   },
   "id": "b1fb3d1b4f6678b7",
   "execution_count": 45
  },
  {
   "cell_type": "code",
   "outputs": [
    {
     "name": "stdout",
     "output_type": "stream",
     "text": [
      "Final Accuracy: 0.8398367478585561\n",
      "\n",
      "Final Classification Report:\n",
      "               precision    recall  f1-score   support\n",
      "\n",
      "  Lying Down       1.00      1.00      1.00     15568\n",
      "     Running       1.00      1.00      1.00     31449\n",
      "     Sitting       0.97      0.70      0.82     81584\n",
      "     Walking       0.56      0.95      0.71     32622\n",
      "\n",
      "    accuracy                           0.84    161223\n",
      "   macro avg       0.88      0.91      0.88    161223\n",
      "weighted avg       0.90      0.84      0.85    161223\n"
     ]
    }
   ],
   "source": [
    "print(\"Final Accuracy:\", accuracy_score(y_test, final_y_pred))\n",
    "print(\"\\nFinal Classification Report:\\n\", classification_report(y_test, final_y_pred))"
   ],
   "metadata": {
    "collapsed": false,
    "ExecuteTime": {
     "end_time": "2024-12-12T09:48:32.265593Z",
     "start_time": "2024-12-12T09:48:21.505262Z"
    }
   },
   "id": "fbfd5da5473b3d4",
   "execution_count": 46
  },
  {
   "cell_type": "code",
   "outputs": [
    {
     "data": {
      "text/plain": "<Figure size 432x288 with 2 Axes>",
      "image/png": "[encoded data removed]"
     },
     "metadata": {
      "needs_background": "light"
     },
     "output_type": "display_data"
    }
   ],
   "source": [
    "# Confusion matrix\n",
    "conf_matrix = confusion_matrix(y_test, y_pred)\n",
    "sns.heatmap(conf_matrix, annot=True, fmt='d', cmap='viridis', xticklabels=y_test.cat.categories, yticklabels=y_test.cat.categories)\n",
    "plt.xlabel('Predicted Label')\n",
    "plt.ylabel('True Label')\n",
    "plt.title('Confusion Matrix')\n",
    "plt.show()"
   ],
   "metadata": {
    "collapsed": false,
    "ExecuteTime": {
     "end_time": "2024-12-12T09:51:13.908271Z",
     "start_time": "2024-12-12T09:51:11.735987Z"
    }
   },
   "id": "2641e669d538f644",
   "execution_count": 47
  },
  {
   "cell_type": "code",
   "outputs": [],
   "source": [],
   "metadata": {
    "collapsed": false,
    "ExecuteTime": {
     "end_time": "2024-12-12T09:00:27.867673Z",
     "start_time": "2024-12-12T09:00:27.854673Z"
    }
   },
   "id": "9b29cdfffa6dfea9",
   "execution_count": 39
  }
 ],
 "metadata": {
  "kernelspec": {
   "display_name": "Python 3",
   "language": "python",
   "name": "python3"
  },
  "language_info": {
   "codemirror_mode": {
    "name": "ipython",
    "version": 2
   },
   "file_extension": ".py",
   "mimetype": "text/x-python",
   "name": "python",
   "nbconvert_exporter": "python",
   "pygments_lexer": "ipython2",
   "version": "2.7.6"
  }
 },
 "nbformat": 4,
 "nbformat_minor": 5
}
